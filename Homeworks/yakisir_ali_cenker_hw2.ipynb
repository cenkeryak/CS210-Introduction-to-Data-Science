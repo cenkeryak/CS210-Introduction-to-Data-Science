{
  "nbformat": 4,
  "nbformat_minor": 0,
  "metadata": {
    "colab": {
      "provenance": []
    },
    "kernelspec": {
      "name": "python3",
      "display_name": "Python 3"
    },
    "language_info": {
      "name": "python"
    }
  },
  "cells": [
    {
      "cell_type": "markdown",
      "source": [
        "# Homework 2 - Data Wrangling\n",
        "\n",
        "\n",
        "*In this homework, you are going to work on a real-world dataset and perform some data transformations. We suggest you start the homework early.*\n",
        "\n",
        "**Submission Instructions**\n",
        "\n",
        "---\n",
        "It is important that you follow the submission instructions. \n",
        "1. Copy this assignment notebook to your Drive. <font color = 'red'> `File` --> `Save a copy in Drive`</font>. Rename it as <font color = 'green'>`Lastname_Firstname_hw2`</font>.\n",
        "\n",
        "2. Write your solutions in the cells  marked as <font color = 'green'>`# your code`</font>.\n",
        "\n",
        "3. **Do not delete your outputs**. They are essential for the grading. Make sure that cells containing your solutions are executed, and the results are displayed on the notebook.\n",
        "\n",
        "4. When you're done please submit your solutions as an <font color=\"red\">`.ipynb`</font> file. To do so:\n",
        "\n",
        "\n",
        "  a. Click on <font color=\"red\">`File`</font>  at the top left on the Colab screen, then click on <font color = 'red'>`Download .ipynb`</font>.\n",
        "\n",
        "  b. Then submit the downloaded <font color=\"red\">`.ipynb`</font> version of your work on SUCourse.\n",
        "\n",
        "\n",
        "For any question, please use the discussion page on Sucourse.\n",
        "\n",
        "---\n",
        "\n",
        "**Important Note: In this homework, you are not allowed to use Pandas.**"
      ],
      "metadata": {
        "id": "bzLXvNMN_gYM"
      }
    },
    {
      "cell_type": "markdown",
      "source": [
        "In this homework, you will work on a dataset from [Kaggle-Medium-2021-Data-Science-Articles](https://www.kaggle.com/datasets/viniciuslambert/medium-2021-data-science-articles-dataset). The dataset contains information on data science articles shared on Medium.com in 2021.\n",
        "\n",
        "For this homework, you will use the provided file `Medium_DS_Articles_2021_Dataset.csv`. This is a modified version of the original dataset.\n",
        "<!-- This is not the original data file, we modified and eliminated some parts. -->\n",
        "\n",
        "In the dataset, each row has 7 attribute values separated with `,`. These attributes are described in the list below with their respective order in the dataset.\n",
        "\n",
        "\n",
        "  1.   **url:** Refers to the url of the article\n",
        "\n",
        "  2.   **author:** Who has written the article\n",
        "\n",
        "  3.   **claps** Similar to \"Likes\" on Social Media\n",
        "\n",
        "  4.   **responses:** Comments written to the articles\n",
        "  \n",
        "  5.   **reading_time:** Reading time of articles recorded by Medium.com (In minutes)\n",
        "  \n",
        "  6.   **date:** The date the article was written\n",
        "\n",
        "\n",
        "A snapshot from the dataset containing three sample rows is also provided below.\n",
        "```\n",
        "['https://medium.com/@sellforte-insights/bayesian-data-analysis-a-brave-new-world-of-statistics-1fc3167812d7','sellforte-insights', '0.0', '0.0', '9-min', 'Data Science','2021-05-19']\n",
        "['https://towardsdatascience.com/how-to-improve-deep-learning-forecasts-for-time-series-part-2-c11efc8dfee2','michaelberk', '106.0', '0.0', '5-min', 'Machine Learning','2021-10-26']\n",
        "['https://medium.com/@paulshin17/intro-on-linear-regression-using-keras-predicting-real-estate-price-f0e94de1b912','paulshin17', '107.0', '0.0', '6-min', 'Data Science','2021-10-18']\n",
        "...\n",
        "```\n",
        "\n",
        "*Do not forget to add the shared `Medium_DS_Articles_2021_Dataset.csv` file to your drive and mount to your drive. Otherwise, you won't be able to read the file.*\n",
        "\n",
        "**!!!IMPORTANT: You are not allowed to use `pandas` in this homework**"
      ],
      "metadata": {
        "id": "kfiyUPnr_jYG"
      }
    },
    {
      "cell_type": "code",
      "source": [
        "from google.colab import drive\n",
        "drive.mount('./drive', force_remount=True)\n",
        "\n",
        "path_prefix = './drive/My Drive'"
      ],
      "metadata": {
        "colab": {
          "base_uri": "https://localhost:8080/"
        },
        "id": "EVlcLWud_ist",
        "outputId": "ab4a5c8d-49e2-4d59-dd66-f83ea5539a6d"
      },
      "execution_count": null,
      "outputs": [
        {
          "output_type": "stream",
          "name": "stdout",
          "text": [
            "Mounted at ./drive\n"
          ]
        }
      ]
    },
    {
      "cell_type": "code",
      "source": [
        "import numpy as np\n",
        "import matplotlib.pyplot as plt\n",
        "import re\n",
        "\n",
        "%matplotlib inline"
      ],
      "metadata": {
        "id": "30e5ET0u_rKp"
      },
      "execution_count": null,
      "outputs": []
    },
    {
      "cell_type": "markdown",
      "source": [
        "## 10 Points - Q1: Read the Dataset\n",
        "\n",
        "In the provided dataset, entries are separated by commas. Read and store the file as a 2D numpy array. Each column should capture the corresponding fields.\n",
        "\n",
        "- Read the given file into a numpy array.\n",
        "- Print the number of rows and columns.\n",
        "- Print the number of unique Tags.\n",
        "\n",
        "Example Output:\n",
        "```\n",
        "Number of rows: 36810, columns: 7\n",
        "Number of unique Tags: 8\n",
        "```\n",
        "\n",
        "*Hint: Do not forget to skip the first line (the header).*"
      ],
      "metadata": {
        "id": "FtwZhhnm_s3r"
      }
    },
    {
      "cell_type": "code",
      "source": [
        "\n",
        "# Your Code\n",
        "data_file = open(path_prefix + \"/Medium_DS_Articles_2021_Dataset.csv\",\"r\")\n",
        "rowcount = 0\n",
        "columncount = 0\n",
        "firstline =data_file.readline()\n",
        "firstline = firstline.strip(\" \\n\\t\").split(\",\")\n",
        "columncount=len(firstline)\n",
        "\n",
        "\n",
        "\n",
        "\n",
        "for line in data_file.readlines():\n",
        "  rowcount += 1\n",
        "\n",
        "\n",
        "#Creates nparray with zeros (its dtype is object since we will append both strings, integers etc)\n",
        "dataArr = np.zeros([rowcount,columncount],dtype=object)\n",
        "\n",
        "\n",
        "data_file.seek(0)\n",
        "data_file.readline()\n",
        "\n",
        "#putting the data into previously created nparray\n",
        "rowidx = 0\n",
        "for line in data_file.readlines():\n",
        "  line=line.strip(\" \\n\\t\").split(\",\")\n",
        "  for colidx in range(columncount):\n",
        "    dataArr[rowidx][colidx] = line[colidx]\n",
        "  rowidx += 1\n",
        "\n",
        "\n",
        "\n",
        "tagDict ={}\n",
        "for rowidx in range(rowcount):\n",
        "  tag = dataArr[rowidx][5]\n",
        "  if tag not in tagDict.keys():\n",
        "    tagDict[tag] = 1\n",
        "  else:\n",
        "    tagDict[tag] += 1  \n",
        "\n",
        "\n",
        "\n",
        "\n",
        "print(\"Number of rows: \",rowcount,\", columns: \",columncount,sep='')\n",
        "print(\"Number of unique Tags:\",len(tagDict.keys()))\n",
        "\n",
        "\n",
        "\n",
        "\n",
        "\n",
        "data_file.close()"
      ],
      "metadata": {
        "id": "QyDPMaYz_vJs",
        "colab": {
          "base_uri": "https://localhost:8080/"
        },
        "outputId": "c407b310-6fbf-488b-e42c-7a1bc639dc3b"
      },
      "execution_count": null,
      "outputs": [
        {
          "output_type": "stream",
          "name": "stdout",
          "text": [
            "Number of rows: 36810, columns: 7\n",
            "Number of unique Tags: 8\n"
          ]
        }
      ]
    },
    {
      "cell_type": "markdown",
      "source": [
        "## 30 Points - Q2: Exploring Dataset"
      ],
      "metadata": {
        "id": "G6iSBqFE_1PI"
      }
    },
    {
      "cell_type": "markdown",
      "source": [
        "### 15 Points - Part A\n",
        "\n",
        "The tag field makes it easy to find the articles on the related topic. Examining the tags used in articles written in 2021 can give us information about which field has become more popular.\n",
        "\n",
        "- Print the name of each unique Tag and its frequency in data from the most frequent to least\n",
        "\n",
        "Example output:\n",
        "```\n",
        "Data Science           -   9033\n",
        "Machine Learning       -   7732\n",
        "Artificial Inteligence -   7552\n",
        "Data                   -   4810\n",
        "Deep Learning          -   2903\n",
        "X                      -   1674\n",
        "Big Data               -   1579\n",
        "Analytics              -   1527\n",
        "```"
      ],
      "metadata": {
        "id": "_9qqI1_X_3i0"
      }
    },
    {
      "cell_type": "code",
      "source": [
        "# Your Code\n",
        "\n",
        "#tag names and their frequencies are already calculated in the previous question. Therefore, i am just printing it in here\n",
        "sortedValues = sorted(tagDict.values(),reverse=True)\n",
        "sortedDict = {}\n",
        "for value in sortedValues:\n",
        "  for key in tagDict.keys():\n",
        "    if tagDict[key] == value:\n",
        "      sortedDict[key] = value\n",
        "      \n",
        "\n",
        "for key in sortedDict.keys():\n",
        "  width = 25-len(key)\n",
        "  print(key,'{:>{w}}'.format(\"-\",w=width),' ', tagDict[key])\n",
        "\n"
      ],
      "metadata": {
        "id": "wU1NkEAM_6ee",
        "colab": {
          "base_uri": "https://localhost:8080/"
        },
        "outputId": "fa384658-1e41-461f-8aba-d3b7e6f85622"
      },
      "execution_count": null,
      "outputs": [
        {
          "output_type": "stream",
          "name": "stdout",
          "text": [
            "Data Science             -   9033\n",
            "Machine Learning         -   7732\n",
            "Artificial Inteligence   -   7552\n",
            "Data                     -   4810\n",
            "Deep Learning            -   2903\n",
            "X                        -   1674\n",
            "Big Data                 -   1579\n",
            "Analytics                -   1527\n"
          ]
        }
      ]
    },
    {
      "cell_type": "markdown",
      "source": [
        "### 15 Points - Part B\n",
        "\n",
        "When we examined the frequency of the tags, we learned that more articles were written about which topic. But there is a tag called '**X**' and we don't know what it means. We may want to check the rows containing this Tag and examine what they are. When we examine these, we see they all have the similar structure and there is something strange in the '**date**' field. We want you to rearrange these corrupted date fields so that every '**date**' value in the same format.\n",
        "\n",
        "**Note:** Some of the examples can be seen below where %Y represents years (e.g. 2022, 2021), %m month as a zero-padded decimal number (e.g. 07, 08) and %d day of the month as a zero-padded decimal number (e.g. 01, 03). You may assume that the order of date elements is always the same in the raw data: %Y %m %d.\n",
        "\n",
        "\n",
        "Corrupted Date formats are as follows:\n",
        "```\n",
        "'(%Y)::(%m)::(%d)', \n",
        "'%Y %m %d'\n",
        "```\n",
        "You **MUST** use **regular expressions** for this question. (Use the **re** library of Python)\n",
        "- Write a **function** that checks the format of date feature and returns True if all observations are in the expected format, otherwise returns False.\n",
        "    - **Name of the function**: validate_date_format\n",
        "    - **Input**: Date column\n",
        "    - **Output**: True if all date values are in the expected format (%Y-%m-%d --- 2022-10-22), otherwise False\n",
        "- Then, convert the **date** feature to the expected format.\n",
        "\n",
        "```\n",
        "Expected Date Format: '%Y-%m-%d' --> '2022-10-22'\n",
        "```"
      ],
      "metadata": {
        "id": "xOlWyha___nz"
      }
    },
    {
      "cell_type": "code",
      "source": [
        "# Your Code\n",
        "def validate_date_format(dateCol):\n",
        "  returncond = True\n",
        "  myrule = re.compile(\"[0-9]{4}-[0-9]{2}-[0-9]{2}\")\n",
        "  for date in dateCol:\n",
        "    match = myrule.search(date)\n",
        "    if match == None:\n",
        "      returncond = False\n",
        "      return returncond\n",
        "  return returncond\n",
        "\n",
        "\n",
        "#Extracts the date column for function\n",
        "dateArray = dataArr[:,6]\n",
        "print(\"Are all date date in expected format:\",validate_date_format(dateArray))\n",
        "\n",
        "# converting the dates with incorrect format to correct format\n",
        "rule1 = re.compile(\"[0-9]{4}|[0-9]{2}\")\n",
        "rowindex = -1\n",
        "for date in dateArray:\n",
        "  rowindex += 1\n",
        "  if validate_date_format([date]) == False:\n",
        "    findings = rule1.findall(date)\n",
        "    if len(findings) != 3:\n",
        "      print(\"cannot do the conversion for row:\",rowindex)\n",
        "    else:\n",
        "      newdate = findings[0] + '-' + findings[1] + '-' + findings[2]\n",
        "      dataArr[rowindex][6] = newdate\n",
        "\n",
        "\n",
        "\n",
        "# To See if the date format is valid for all data, again we call validate format fuction\n",
        "dateArray = dataArr[:,6]\n",
        "print(\"Are all date date in expected format (after convertion):\",validate_date_format(dateArray))\n",
        "  \n"
      ],
      "metadata": {
        "id": "VlSC1Ja-ACSz",
        "colab": {
          "base_uri": "https://localhost:8080/"
        },
        "outputId": "68f5c8e3-8c7e-4373-f177-c313b3713c21"
      },
      "execution_count": null,
      "outputs": [
        {
          "output_type": "stream",
          "name": "stdout",
          "text": [
            "Are all date date in expected format: False\n",
            "Are all date date in expected format (after convertion): True\n"
          ]
        }
      ]
    },
    {
      "cell_type": "markdown",
      "source": [
        "## 20 Points - Q3: Cleaning Data\n",
        "\n",
        "We learned that there are some removed articles. In Q2 Part B, we rearranged the format of the date feature. In this part, we will examine in which month more articles were deleted.\n",
        "\n",
        "- Display the total number of deleted articles per each month as a bar chart\n",
        "- At the end, delete these removed articles from the dataset\n",
        "\n"
      ],
      "metadata": {
        "id": "eB8OLrnJAIKa"
      }
    },
    {
      "cell_type": "code",
      "source": [
        "# Your Code\n",
        "\n",
        "\n",
        "removedArticlesDict = {}\n",
        "for data in dataArr:\n",
        "  if data[0] == \"[REMOVED_ARTICLE]\":\n",
        "    if data[6][5:7] not in removedArticlesDict.keys():\n",
        "      removedArticlesDict[data[6][5:7]] = 1\n",
        "    else:\n",
        "      removedArticlesDict[data[6][5:7]] += 1\n",
        "\n",
        "\n",
        "#sorting the dates\n",
        "sortedRArticles = {}\n",
        "sortedmonth = [int(m) for m in removedArticlesDict.keys()]\n",
        "sortedmonth = sorted(sortedmonth)\n",
        "for month in sortedmonth:\n",
        "  for date in removedArticlesDict.keys():\n",
        "    if int(date) == month:\n",
        "      sortedRArticles[date] = removedArticlesDict[date]\n",
        "\n",
        "# Plotting the bar chart\n",
        "deletedarticles = list(sortedRArticles.values())\n",
        "\n",
        "# Taking only months since we know that year is 2021\n",
        "dates = [a for a in sortedRArticles.keys()]\n",
        "\n",
        "plt.bar(dates, deletedarticles, color='red')\n",
        "plt.xlabel(\"Dates\")\n",
        "plt.ylabel(\"Removed Articles Count\")\n",
        "plt.title(\"Deleted Articles Count in 2021 by Month\")\n",
        "plt.show()\n",
        "\n",
        "\n",
        "# Deleting articles from list\n",
        "newdataArr = dataArr.copy()\n",
        "rowidx = -1\n",
        "deletecount = 0\n",
        "for data in dataArr:\n",
        "  rowidx += 1\n",
        "  if data[0] == \"[REMOVED_ARTICLE]\":\n",
        "    newdataArr = np.delete(newdataArr,rowidx - deletecount, 0)\n",
        "    deletecount += 1\n",
        "print(\"Total deleted row count:\",deletecount)\n",
        "print(\"After deletion of Removed Articles, The data set is:\",newdataArr)\n"
      ],
      "metadata": {
        "id": "6mBB_RZuAKk2",
        "colab": {
          "base_uri": "https://localhost:8080/",
          "height": 538
        },
        "outputId": "30dd49fd-dfeb-416b-a698-11cd51a61a0e"
      },
      "execution_count": null,
      "outputs": [
        {
          "output_type": "display_data",
          "data": {
            "text/plain": [
              "<Figure size 432x288 with 1 Axes>"
            ],
            "image/png": "[encoded data removed]"
          },
          "metadata": {
            "needs_background": "light"
          }
        },
        {
          "output_type": "stream",
          "name": "stdout",
          "text": [
            "Total deleted row count: 1674\n",
            "After deletion of Removed Articles, The data set is: [['https://medium.com/@sellforte-insights/bayesian-data-analysis-a-brave-new-world-of-statistics-1fc3167812d7'\n",
            "  'sellforte-insights' '0.0' ... '9-min' 'Data Science' '2021-05-19']\n",
            " ['https://towardsdatascience.com/how-to-improve-deep-learning-forecasts-for-time-series-part-2-c11efc8dfee2'\n",
            "  'michaelberk' '106.0' ... '5-min' 'Machine Learning' '2021-10-26']\n",
            " ['https://medium.com/@paulshin17/intro-on-linear-regression-using-keras-predicting-real-estate-price-f0e94de1b912'\n",
            "  'paulshin17' '107.0' ... '6-min' 'Data Science' '2021-10-18']\n",
            " ...\n",
            " ['https://medium.com/@dhirajkumarblog/self-attention-bottleneck-for-transformers-deep-learning-models-1ec5aeb2c9b9'\n",
            "  'dhirajkumarblog' '0.0' ... '1-min' 'Deep Learning' '2021-01-08']\n",
            " ['https://medium.com/kaggle-nyc/linear-model-selection-and-regularization-islr-series-chapter-6-61976fbd9723'\n",
            "  'taraqur' '15.0' ... '4-min' 'Data Science' '2021-07-08']\n",
            " ['https://medium.com/@tzjy/4-typical-sampling-methods-you-need-for-data-science-jobs-python-code-included-b003feb6504b'\n",
            "  'tzjy' '55.0' ... '6-min' 'Data Science' '2021-10-19']]\n"
          ]
        }
      ]
    },
    {
      "cell_type": "markdown",
      "source": [
        "## 40 Points - Q4: Features of Medium Articles"
      ],
      "metadata": {
        "id": "T1Fc4ZoXAPiX"
      }
    },
    {
      "cell_type": "markdown",
      "source": [
        "### 10 Points - Part A\n",
        "\n",
        "In this question, we will examine the different features of the articles on Medium. In Q3, we deleted the removed articles to examine the data that is not missing. First, let's check the new shape of our dataset.\n",
        "\n",
        "- Print the new number of rows and columns after dropping missing values.\n",
        "\n",
        "Medium has reading times calculated automatically by the site's own method which you can find in data. Take a quick look at the basic statistical information of this feature. \n",
        "\n",
        "- Print the maximum, minimum and average reading time of articles\n",
        "\n",
        "Example Output:\n",
        "```\n",
        "After cleaning, Number of rows: 35136, columns: 7\n",
        "Maximum reading time: 131.0\n",
        "Minimum reading time: 0.0\n",
        "Average reading time: 5.041182832422587\n",
        "```"
      ],
      "metadata": {
        "id": "qHnRYpO-ATY1"
      }
    },
    {
      "cell_type": "code",
      "source": [
        "# Your Code\n",
        "newrowcount = len(newdataArr)\n",
        "newcolumncount = len(newdataArr[0])\n",
        "print(\"After cleaning, Number of rows: \",newrowcount,\", columns: \",newcolumncount,sep='')\n",
        "\n",
        "readingtimes = np.array(newdataArr[:,4])\n",
        "\n",
        "\n",
        "readingtimesfloat = np.zeros(newrowcount,dtype=float)\n",
        "\n",
        "\n",
        "ridx = -1\n",
        "for rt in readingtimes:\n",
        "  ridx += 1\n",
        "  idx = rt.find('-')\n",
        "  rtime = float(rt[:idx])\n",
        "  readingtimesfloat[ridx] = rtime\n",
        "  \n",
        "\n",
        "maxRT = readingtimesfloat.max()\n",
        "minRT = readingtimesfloat.min()\n",
        "meanRT = readingtimesfloat.mean()\n",
        "\n",
        "print(\"Maximum reading time:\",maxRT)\n",
        "print(\"Minimum reading time:\",minRT)\n",
        "print(\"Average reading time:\",meanRT)\n",
        "\n"
      ],
      "metadata": {
        "id": "KCcTd0SyAVoi",
        "colab": {
          "base_uri": "https://localhost:8080/"
        },
        "outputId": "97086bf0-2394-45dd-b338-bd85dd5be6d7"
      },
      "execution_count": null,
      "outputs": [
        {
          "output_type": "stream",
          "name": "stdout",
          "text": [
            "After cleaning, Number of rows: 35136, columns: 7\n",
            "Maximum reading time: 131.0\n",
            "Minimum reading time: 0.0\n",
            "Average reading time: 5.041182832422587\n"
          ]
        }
      ]
    },
    {
      "cell_type": "markdown",
      "source": [
        "### 30 Points - Part B: Conditional Probability\n",
        "\n",
        "Claps and Responses show how many interaction an article get similar to likes and comments. We can find out which tag is likely to receive more interaction.\n",
        "\n",
        "$\\DeclareMathOperator*{\\argmax}{argmax} \\argmax\\limits_{\\small{tag} \\, \\in \\, \\text{Tag Category}}\\;P(\\text{Interaction}=\\text{1}|\\text{Tag Category}=\\text{tag})$\n",
        "\n",
        "- Add new column to data which shows '**interaction**' and its value is 1 if there is any interaction, otherwise 0.\n",
        "- For each tag category, calculate the conditional probability shown in the equation below.\n",
        "- Report the tag category that returns the highest conditional probability. \n",
        "- Print the tag category and its probability value.\n",
        "\n",
        "**Example Output:**\n",
        "```\n",
        "Data Science - 0.8334993911214437\n",
        "```"
      ],
      "metadata": {
        "id": "VhSXktqrAb8s"
      }
    },
    {
      "cell_type": "code",
      "source": [
        "# Your Code\n",
        "newnewdataArr = np.zeros((newrowcount,newcolumncount + 1),dtype=object)\n",
        "for row in range(newrowcount):\n",
        "  rowdata = newdataArr[row]\n",
        "  for col in range(newcolumncount):\n",
        "    newnewdataArr[row][col] = rowdata[col]\n",
        "  if (float(rowdata[2]) + float(rowdata[3])) > 0:\n",
        "    newnewdataArr[row][newcolumncount] = 1\n",
        "  else:\n",
        "    newnewdataArr[row][newcolumncount] = 0\n",
        "\n",
        "def CondProbCalc(tagCat):\n",
        "  IandTcount = 0\n",
        "  Tcount = 0\n",
        "  for row in newnewdataArr:\n",
        "    if row[5] == tagCat:\n",
        "      Tcount += 1\n",
        "      if row[7] == 1:\n",
        "        IandTcount += 1\n",
        "  if Tcount != 0:\n",
        "    return IandTcount/Tcount\n",
        "\n",
        "\n",
        "tagkeys = list(tagDict.keys())\n",
        "tagvalues= list(tagDict.values())\n",
        "if 'X' in tagkeys:\n",
        "  tagDict.pop(\"X\")\n",
        "\n",
        "\n",
        "problist = np.zeros((len(tagkeys)),dtype=float)\n",
        "\n",
        "\n",
        "tagidx = -1\n",
        "for tag in tagkeys:\n",
        "  tagidx += 1\n",
        "  prob = CondProbCalc(tag)\n",
        "  problist[tagidx] = prob\n",
        "  width = 25 - len(tag)\n",
        "  print(tag,'{:>{w}}'.format(\"-\",w=width),' ',prob)\n",
        "\n",
        "maxprob = max(problist)\n",
        "\n",
        "for p in range(len(problist)):\n",
        "  if problist[p] == maxprob:\n",
        "     print(tagkeys[p], \"has the highest condional probability which is:\",problist[p])\n"
      ],
      "metadata": {
        "id": "-SpHMvbAAcZs",
        "colab": {
          "base_uri": "https://localhost:8080/"
        },
        "outputId": "c527340f-250b-4960-bbd3-20091bf5ae30"
      },
      "execution_count": null,
      "outputs": [
        {
          "output_type": "stream",
          "name": "stdout",
          "text": [
            "Data Science             -   0.8334993911214436\n",
            "Machine Learning         -   0.7955250905328505\n",
            "Big Data                 -   0.578214059531349\n",
            "Artificial Inteligence   -   0.6514830508474576\n",
            "Data                     -   0.5031185031185031\n",
            "Deep Learning            -   0.8219083706510506\n",
            "Analytics                -   0.5795677799607073\n",
            "Data Science has the highest condional probability which is: 0.8334993911214436\n"
          ]
        }
      ]
    }
  ]
}