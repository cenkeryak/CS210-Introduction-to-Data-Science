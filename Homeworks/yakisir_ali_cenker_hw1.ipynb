{
  "nbformat": 4,
  "nbformat_minor": 0,
  "metadata": {
    "colab": {
      "provenance": []
    },
    "kernelspec": {
      "name": "python3",
      "display_name": "Python 3"
    }
  },
  "cells": [
    {
      "cell_type": "markdown",
      "metadata": {
        "id": "JD9gUM7WW8iT"
      },
      "source": [
        "# Homework 1 - Practicing Python\n",
        "\n",
        "\n",
        "*In the first homework, you are going to work on a set of Python exercises.*\n",
        "\n",
        "**Submission Instructions**\n",
        "\n",
        "---\n",
        "It is important that you follow the submission instructions. \n",
        "1. Copy this assignment notebook to your Drive. <font color = 'red'> `File` --> `Save a copy in Drive`</font>. Rename it as <font color = 'green'>`Lastname_Firstname_hw1`</font>.\n",
        "\n",
        "2. Write your solutions in the cells  marked <font color = 'green'>`# your code`</font>.\n",
        "\n",
        "3. Do not delete your outputs. They are essential for the grading. Make sure that cells containing your solutions are executed, and the results are displayed on the notebook.\n",
        "\n",
        "4. When you're done please submit your solutions as an <font color=\"red\">`.ipynb`</font> file. To do so:\n",
        "\n",
        "\n",
        "  a. Click on <font color=\"red\">`File`</font>  at the top left on the Colab screen, then click on <font color = 'red'>`Download .ipynb`</font>.\n",
        "\n",
        "  b. Then submit the downloaded <font color=\"red\">`.ipynb`</font> version of your work on SUCourse.\n",
        "\n",
        "\n",
        "For any question, you may send an email to the TAs and LAs.\n",
        "\n",
        "---\n",
        "\n",
        "**Important Note:**   \n",
        "In this homework, you do not need to use any libraries than the built-in ones. Hence, you are not allowed to use any libraries, other than the [`pprint`](https://docs.python.org/3/library/pprint.html) library to produce better looking outputs. If you have doubt on what to use what not to use please ask your question in the SuCourse Homework Q&A forum."
      ]
    },
    {
      "cell_type": "markdown",
      "metadata": {
        "id": "rYfw-eaiBOBJ"
      },
      "source": [
        "## 15 points - Q1: Find the E-mail, Given the TA\n",
        "\n",
        "In the cell below, you have two dictionaries. First dictionary containes the TA names as their keys, and their surnames as the values in the dictionary. Second dictionary holds the e-mail addresses for each TA.\n",
        "\n",
        "Here, your goal is to write a fuction named `print_TAs_info` that will return the name, surname and the email information. Example output is as follows:\n",
        "\n",
        "\n",
        "```py\n",
        ">>> print_TAs_info(ta_names_surnames,ta_mails)\n",
        "Deren Ege Turan derenege@sabanciuniv.edu\n",
        "Vahid Khalili Param vahid.khalili@sabanciuniv.edu\n",
        "Mert Pekey mpekey@sabanciuniv.edu\n",
        "```"
      ]
    },
    {
      "cell_type": "code",
      "metadata": {
        "id": "_RCO6nIyEpv1"
      },
      "source": [
        "ta_names_surnames = {'Deren Ege': 'Turan', 'Vahid Khalili': 'Param', 'Mert': 'Pekey'}\n",
        "ta_mails = {'Deren Ege': 'derenege@sabanciuniv.edu', 'Vahid Khalili': 'vahid.khalili@sabanciuniv.edu', 'Mert': 'mpekey@sabanciuniv.edu'}\n"
      ],
      "execution_count": null,
      "outputs": []
    },
    {
      "cell_type": "code",
      "metadata": {
        "id": "VsigiNj3FzgF",
        "colab": {
          "base_uri": "https://localhost:8080/"
        },
        "outputId": "9f6ddd39-3a30-4afd-aed9-bcd7ab9c51cb"
      },
      "source": [
        "# your code\n",
        "def print_TAs_info(ta_names_surnames,ta_mails):\n",
        "  for name in ta_names_surnames.keys():\n",
        "    print(name, ta_names_surnames[name], ta_mails[name] )\n",
        "print_TAs_info(ta_names_surnames, ta_mails)        "
      ],
      "execution_count": null,
      "outputs": [
        {
          "output_type": "stream",
          "name": "stdout",
          "text": [
            "Deren Ege Turan derenege@sabanciuniv.edu\n",
            "Vahid Khalili Param vahid.khalili@sabanciuniv.edu\n",
            "Mert Pekey mpekey@sabanciuniv.edu\n"
          ]
        }
      ]
    },
    {
      "cell_type": "markdown",
      "metadata": {
        "id": "DwskSV1dAeoR"
      },
      "source": [
        "## 30 points - Q2: Inflation Rates\n",
        "\n",
        "Inflation rates measured by consumer price index for USA were taken from:\n",
        "https://www.kaggle.com/datasets/varpit94/us-inflation-data-updated-till-may-2021?resource=download\n",
        "\n",
        "Each line stores the month of the year, related consumer price index, seperated by a **comma**.\n",
        "\n",
        "In total, we have 1303 lines where the inflation rates are given monthly for years between 1913 and 2021.\n",
        "\n",
        "<a href=\"https://imgbb.com/\"><img src=\"https://i.ibb.co/hM5LGd9/inf-example.png\" alt=\"inf-example\" border=\"0\"></a>\n",
        "\n",
        "*Do not forget to add the shared file and then mount to your drive. Otherwise, you won't be able to read the file. If you do not know how, please go back to Week 1 recitation materials.*\n",
        "\n",
        "**Attention: You may want to transform the string to numbers by using float() function**"
      ]
    },
    {
      "cell_type": "markdown",
      "metadata": {
        "id": "EJdIEenmj6W_"
      },
      "source": [
        "### 15 points - **Part A**\n",
        "In this part, you should find the **maximum inflation rate change** between consecutive months by using the us_inf.csv file under assignment folder.\n",
        "\n",
        "At the end, the signature should have the similar signature as follows:\n",
        "\n",
        "```py\n",
        "Maximum inflation rate change is 5.882352941176478 between the dates: 01-06-1946 - 01-07-1946\n",
        "```\n",
        "\n",
        "\n",
        "\n"
      ]
    },
    {
      "cell_type": "code",
      "metadata": {
        "id": "tbaryKClTz5Z",
        "colab": {
          "base_uri": "https://localhost:8080/"
        },
        "outputId": "8487d012-a60c-41db-8858-fd5c26b6b0cf"
      },
      "source": [
        "from google.colab import drive\n",
        "drive.mount(\"./drive/\", force_remount=True)"
      ],
      "execution_count": null,
      "outputs": [
        {
          "output_type": "stream",
          "name": "stdout",
          "text": [
            "Mounted at ./drive/\n"
          ]
        }
      ]
    },
    {
      "cell_type": "code",
      "metadata": {
        "id": "NnRDeA3_SPi0",
        "colab": {
          "base_uri": "https://localhost:8080/"
        },
        "outputId": "ee2358c2-1c32-4d53-e024-343f49538310"
      },
      "source": [
        "# your code\n",
        "file_inflation = open(\"./drive/MyDrive/us_inf.csv\")\n",
        "\n",
        "currentMaxdinf = 0.0\n",
        "maxinfdates = [\"-\",\"-\"]\n",
        "dates_and_rates_prev = file_inflation.readline().split(\",\");\n",
        "\n",
        "dates_and_rates_prev[1] = dates_and_rates_prev[1].strip(\"\\n\")\n",
        "\n",
        "\n",
        "for lines in file_inflation.readlines():\n",
        "  dates_and_rates = lines.split(\",\")\n",
        "  dates_and_rates[1] = dates_and_rates[1].strip(\"\\n\")\n",
        "\n",
        "  \n",
        "  infchange =float(dates_and_rates[1]) - float(dates_and_rates_prev[1])\n",
        "\n",
        "  #this statement takes absolute value of the inflation change\n",
        "  if 0 > infchange:\n",
        "    infchange = -infchange\n",
        "\n",
        "  if currentMaxdinf < infchange:\n",
        "    currentMaxdinf = infchange\n",
        "    maxinfdates[0] = dates_and_rates_prev[0]\n",
        "    maxinfdates[1] = dates_and_rates[0]\n",
        "  dates_and_rates_prev = dates_and_rates\n",
        "\n",
        "print(\"Maximum inflation rate change is\", currentMaxdinf, \"bethween the dates:\",maxinfdates[0], \"-\", maxinfdates[1])\n",
        "\n",
        "file_inflation.close()  "
      ],
      "execution_count": null,
      "outputs": [
        {
          "output_type": "stream",
          "name": "stdout",
          "text": [
            "Maximum inflation rate change is 4.147999999999996 bethween the dates: 01-10-2008 - 01-11-2008\n"
          ]
        }
      ]
    },
    {
      "cell_type": "markdown",
      "metadata": {
        "id": "pIBUWMoXSSwr"
      },
      "source": [
        "### 15 points - **Part B**\n",
        "\n",
        "Find the mean of changes of the inflation rates in USA between the consecutive dates.\n",
        "\n"
      ]
    },
    {
      "cell_type": "code",
      "metadata": {
        "id": "laBFy2HkSXpC",
        "colab": {
          "base_uri": "https://localhost:8080/",
          "height": 232
        },
        "outputId": "1b810b75-6e07-4bc5-f725-7040de05e028"
      },
      "source": [
        "# your code\n",
        "file_inflation = open(\"./drive/MyDrive/us_inf.csv\")\n",
        "\n",
        "dateRate = file_inflation.readline().split(\",\")\n",
        "previnfrate = float(dateRate[1].strip(\"\\n\"))\n",
        "\n",
        "infchangeSum = 0\n",
        "infchangesCount = 0\n",
        "\n",
        "for lines in file_inflation.readlines():\n",
        "  dateRate = lines.split(\",\")\n",
        "  currentinfrate = float(dateRate[1].strip(\"\\n\"))\n",
        "  \n",
        "  if previnfrate < currentinfrate:\n",
        "    infchangeSum += currentinfrate - previnfrate\n",
        "  else:\n",
        "    infchangeSum += previnfrate - currentinfrate\n",
        "  infchangesCount +=1\n",
        "  \n",
        "  previnfrate = currentinfrate\n",
        "\n",
        "mean = infchangeSum / infchangesCount\n",
        "print(\"Mean of changes of the inflation rates is:\", mean)\n"
      ],
      "execution_count": null,
      "outputs": [
        {
          "output_type": "error",
          "ename": "FileNotFoundError",
          "evalue": "ignored",
          "traceback": [
            "\u001b[0;31m---------------------------------------------------------------------------\u001b[0m",
            "\u001b[0;31mFileNotFoundError\u001b[0m                         Traceback (most recent call last)",
            "\u001b[0;32m<ipython-input-1-de4c9469951a>\u001b[0m in \u001b[0;36m<module>\u001b[0;34m\u001b[0m\n\u001b[1;32m      1\u001b[0m \u001b[0;31m# your code\u001b[0m\u001b[0;34m\u001b[0m\u001b[0;34m\u001b[0m\u001b[0;34m\u001b[0m\u001b[0m\n\u001b[0;32m----> 2\u001b[0;31m \u001b[0mfile_inflation\u001b[0m \u001b[0;34m=\u001b[0m \u001b[0mopen\u001b[0m\u001b[0;34m(\u001b[0m\u001b[0;34m\"./drive/MyDrive/us_inf.csv\"\u001b[0m\u001b[0;34m)\u001b[0m\u001b[0;34m\u001b[0m\u001b[0;34m\u001b[0m\u001b[0m\n\u001b[0m\u001b[1;32m      3\u001b[0m \u001b[0;34m\u001b[0m\u001b[0m\n\u001b[1;32m      4\u001b[0m \u001b[0mdateRate\u001b[0m \u001b[0;34m=\u001b[0m \u001b[0mfile_inflation\u001b[0m\u001b[0;34m.\u001b[0m\u001b[0mreadline\u001b[0m\u001b[0;34m(\u001b[0m\u001b[0;34m)\u001b[0m\u001b[0;34m.\u001b[0m\u001b[0msplit\u001b[0m\u001b[0;34m(\u001b[0m\u001b[0;34m\",\"\u001b[0m\u001b[0;34m)\u001b[0m\u001b[0;34m\u001b[0m\u001b[0;34m\u001b[0m\u001b[0m\n\u001b[1;32m      5\u001b[0m \u001b[0mprevinfrate\u001b[0m \u001b[0;34m=\u001b[0m \u001b[0mfloat\u001b[0m\u001b[0;34m(\u001b[0m\u001b[0mdateRate\u001b[0m\u001b[0;34m[\u001b[0m\u001b[0;36m1\u001b[0m\u001b[0;34m]\u001b[0m\u001b[0;34m.\u001b[0m\u001b[0mstrip\u001b[0m\u001b[0;34m(\u001b[0m\u001b[0;34m\"\\n\"\u001b[0m\u001b[0;34m)\u001b[0m\u001b[0;34m)\u001b[0m\u001b[0;34m\u001b[0m\u001b[0;34m\u001b[0m\u001b[0m\n",
            "\u001b[0;31mFileNotFoundError\u001b[0m: [Errno 2] No such file or directory: './drive/MyDrive/us_inf.csv'"
          ]
        }
      ]
    },
    {
      "cell_type": "markdown",
      "metadata": {
        "id": "srIzF7eJYUAW"
      },
      "source": [
        "## 25 points - Q3: Matrix Multiplication \n",
        "\n",
        "List/array reshaping is one of the most fundamental operations in data manipulation. In the figure below, you see a 4x3 dimensional list of lists (a list that contains lists) named `a` that has integers from 1 to 12. We can take another matrix `b` of the form 3x2 dimensional list of lists and multiply them and create a new list of list of size 4x2. \n",
        "\n",
        "![](https://i.ibb.co/hHWcdBQ/mm-drawio-nt3.png)\n",
        "\n",
        "By referencing the figure above, write a function named `matrix_multiplication` which will find the multiplication of the given two matrices. At the end, it should return the resulting matrix.\n",
        "\n",
        "```py\n",
        ">>> a = [[1,2],\n",
        "         [3,4],\n",
        "         [5,6],\n",
        "         [7,8]]\n",
        ">>> b = [[9,10,11],\n",
        "         [12,13,14]]\n",
        ">>> matrix_multiplication(a,b)\n",
        "33\t36\t39\t\n",
        "75\t82\t89\t\n",
        "117\t128\t139\t\n",
        "159\t174\t189\n",
        "```\n",
        "\n",
        "If the given list of lists do not represent a proper matrix (e.g., [[1,2], [3,4,5]] then, it should print \"Not a proper matrix\" and return None, if the number of columns of the first matrix is not equal to the number of the rows of the second matrix, it should again prints \"Not suitable for multiplication\" and return None. \n",
        "\n",
        "```py\n",
        ">>> a = [[1, 2, 3], [5, 6]]\n",
        ">>> b = [[1, 2, 3], [4, 5, 6]]\n",
        ">>> matrix_multiplication(x,y)\n",
        "\"Not a proper matrix\"\n",
        "\n",
        ">>> a = [[1, 2, 3], [4, 5, 6]]\n",
        ">>> b = [[1, 2, 3], [4, 5, 6]]\n",
        ">>> matrix_multiplication(arr)\n",
        "\"Not suitable for multiplication\"\n",
        "```"
      ]
    },
    {
      "cell_type": "code",
      "metadata": {
        "id": "iZgKbmvbZM61"
      },
      "source": [
        "# 4x2 matrix\n",
        "a = [[1, 2],\n",
        "     [3, 4],\n",
        "     [5, 6],\n",
        "     [7, 8]]\n",
        "# 2x3 matrix\n",
        "b = [[9,10,11],\n",
        "     [12,13,14]]\n",
        "# result is 4x3\n",
        "result = [[33,36,39],[75,82,89],[117,128,139],[159,174,189]]"
      ],
      "execution_count": null,
      "outputs": []
    },
    {
      "cell_type": "code",
      "source": [
        "# your code\n",
        "def matrix_multiplication(m1,m2):\n",
        "  \n",
        "  m1row = len(m1)\n",
        "  m1col = len(m1[0])\n",
        "  m2row = len(m2)\n",
        "  m2col = len(m2[0])\n",
        "\n",
        "  for row in m1:\n",
        "    if len(row) != m1col:\n",
        "      print(\"Not a proper matrix\")\n",
        "      return\n",
        "  \n",
        "  for row in m2:\n",
        "    if len(row) != m2col:\n",
        "      print(\"Not a proper matrix\")\n",
        "      return\n",
        "  \n",
        "  if m1col != m2row:\n",
        "    print(\"Not suitable for multiplication\")\n",
        "    return\n",
        "  \n",
        "  resultMatrix = []\n",
        "  for row in range(m1row):\n",
        "    templist = []\n",
        "    for col in range(m2col):\n",
        "      templist.append(0)\n",
        "    resultMatrix.append(templist.copy())  \n",
        "    \n",
        "  for row in range(m1row):\n",
        "    for col in range(m2col):\n",
        "      Sum = 0\n",
        "      for multip in range(m1col):\n",
        "        Sum += m1[row][multip] * m2[multip][col]\n",
        "      resultMatrix[row][col] = Sum\n",
        "  \n",
        "  for row in range(m1row):\n",
        "    for col in range(m2col):\n",
        "      print('{:>4}'.format(resultMatrix[row][col]) , end='')\n",
        "    print()\n",
        "\n",
        "  \n",
        "\n",
        "\n",
        "matrix_multiplication(a,b)"
      ],
      "metadata": {
        "id": "0nUxArKRrYWG",
        "colab": {
          "base_uri": "https://localhost:8080/"
        },
        "outputId": "ff1fbb56-baea-4d78-c72f-65b0fd3ae002"
      },
      "execution_count": null,
      "outputs": [
        {
          "output_type": "stream",
          "name": "stdout",
          "text": [
            "  33  36  39\n",
            "  75  82  89\n",
            " 117 128 139\n",
            " 159 174 189\n"
          ]
        }
      ]
    },
    {
      "cell_type": "markdown",
      "metadata": {
        "id": "_0FzjI4Li18J"
      },
      "source": [
        "## 30 points - Q4: Top k Frequent Words in a File\n",
        "\n",
        "\n",
        "In the shared assignment folder, you have a file named sherlock.txt which stores the famous book written by Arhurt Conan Doyle.\n",
        "\n",
        "Write a function named top_k_frequent_words which will take a file name as it's parameter and an integer k that is how many frequent words that we are going to return. Function reads the text file and returns the most k frequent words and how many times they have occured in that file. After finding the top_k_frequent_words, report mean, median and std(sample) between their frequencies. \\\\\n",
        "Hint: Remove the symbols such as: [. , ? ! ; : \\n] \\\\\n",
        "Example signature is as follows: (here k=5)\n",
        "\n",
        "```py\n",
        ">>> top_k_frequent_words(\"file_path\",5)\n",
        "\"the\" occured 5704 times\n",
        "\"and\" occured 2939 times\n",
        "\"of\" occured 2762 times\n",
        "\"to\" occured 2733 times\n",
        "\"a\" occured 2651 times\n",
        "mean: 3357.8\n",
        "median: 2762\n",
        "std: 1315.7665826429854\n",
        "```\n",
        "\n",
        "*Do not forget to add the shared file and then mount to your drive. Otherwise, you won't be able to read the file.*"
      ]
    },
    {
      "cell_type": "code",
      "source": [
        "# Your code\n",
        "\n",
        "def top_k_frequent_words(file_path,k):\n",
        "  file1 = open(file_path)\n",
        "  wordDict = {}\n",
        "\n",
        "  for line in file1:\n",
        "    for word in line.split():\n",
        "      word.strip(\".,?!;:\\n\")\n",
        "      word = word.lower()\n",
        "      if word not in wordDict.keys():\n",
        "        wordDict[word] = 1\n",
        "      else:\n",
        "        wordDict[word] += 1\n",
        "  \n",
        "\n",
        "  sortedDict = {}\n",
        "  sortedVal = sorted(wordDict.values(),reverse=True)\n",
        "  for val in sortedVal[:k]:\n",
        "    for key in wordDict.keys():\n",
        "      if wordDict[key] == val:\n",
        "        sortedDict[key] = val\n",
        "        break\n",
        "  \n",
        "  keyslist = list(sortedDict.keys())\n",
        "  sum = 0\n",
        "\n",
        "  for itemidx in range(k):\n",
        "    key = keyslist[itemidx]\n",
        "    val = sortedDict[key]\n",
        "    print(\"\\\"\",key,\"\\\" occured \",val,\" times\",sep='')\n",
        "    sum += val\n",
        "  \n",
        "  mean = sum / k\n",
        "  median = 0\n",
        "\n",
        "  if k%2 == 1:\n",
        "    mididx=int((k-1)/2)\n",
        "    median = list(sortedDict.values())[mididx]\n",
        "  else:\n",
        "    mididx= int(k/2)\n",
        "    values = list(sortedDict.values())\n",
        "    median = (values[mididx] + values[mididx-1]) / 2\n",
        "  print(\"mean:\",mean)\n",
        "  print(\"median:\",median)\n",
        "\n",
        "  varSample = 0.0\n",
        "  for x in sortedDict.values():\n",
        "    varSample += (x - mean)**2\n",
        "  varSample /= (k-1)\n",
        "  std = varSample ** 0.5\n",
        "  print(\"std:\",std)\n",
        "\n",
        "  file1.close()\n",
        "top_k_frequent_words(\"./drive/MyDrive/sherlock.txt\",5)"
      ],
      "metadata": {
        "id": "UQuPrNXLNxNL",
        "colab": {
          "base_uri": "https://localhost:8080/"
        },
        "outputId": "d4040c12-1929-4d24-9908-e0792199b87d"
      },
      "execution_count": null,
      "outputs": [
        {
          "output_type": "stream",
          "name": "stdout",
          "text": [
            "\"the\" occured 5704 times\n",
            "\"and\" occured 2882 times\n",
            "\"of\" occured 2756 times\n",
            "\"to\" occured 2719 times\n",
            "\"a\" occured 2648 times\n",
            "mean: 3341.8\n",
            "median: 2756\n",
            "std: 1323.2351264986885\n"
          ]
        }
      ]
    }
  ]
}